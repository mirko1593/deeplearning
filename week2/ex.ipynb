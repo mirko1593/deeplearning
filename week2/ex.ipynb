{
 "cells": [
  {
   "cell_type": "code",
   "execution_count": 1,
   "id": "04152b97-b47b-4d69-82ae-6b830fc03b06",
   "metadata": {},
   "outputs": [],
   "source": [
    "import numpy as np"
   ]
  },
  {
   "cell_type": "code",
   "execution_count": 5,
   "id": "88543c0f-5225-440e-998a-85e11acc9cd2",
   "metadata": {},
   "outputs": [
    {
     "data": {
      "text/plain": [
       "-0.10536051565782628"
      ]
     },
     "execution_count": 5,
     "metadata": {},
     "output_type": "execute_result"
    }
   ],
   "source": [
    "np.log(0.9)"
   ]
  },
  {
   "cell_type": "code",
   "execution_count": 20,
   "id": "d7de504e-a4e3-4d84-9e9b-39d3c1ed64f1",
   "metadata": {},
   "outputs": [
    {
     "name": "stdout",
     "output_type": "stream",
     "text": [
      "(8, 1)\n"
     ]
    },
    {
     "data": {
      "text/plain": [
       "array([[0.46599202, 0.88143549, 0.42300868, 0.57938449],\n",
       "       [0.74434999, 0.04977431, 0.75603434, 0.63509408]])"
      ]
     },
     "execution_count": 20,
     "metadata": {},
     "output_type": "execute_result"
    }
   ],
   "source": [
    "x = np.random.rand(8,1)\n",
    "print(x.shape)\n",
    "x.reshape(-1, 4)"
   ]
  }
 ],
 "metadata": {
  "kernelspec": {
   "display_name": "Python 3 (ipykernel)",
   "language": "python",
   "name": "python3"
  },
  "language_info": {
   "codemirror_mode": {
    "name": "ipython",
    "version": 3
   },
   "file_extension": ".py",
   "mimetype": "text/x-python",
   "name": "python",
   "nbconvert_exporter": "python",
   "pygments_lexer": "ipython3",
   "version": "3.9.18"
  }
 },
 "nbformat": 4,
 "nbformat_minor": 5
}
